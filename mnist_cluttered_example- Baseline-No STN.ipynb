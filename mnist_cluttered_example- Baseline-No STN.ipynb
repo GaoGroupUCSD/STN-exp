{
 "cells": [
  {
   "cell_type": "markdown",
   "metadata": {},
   "source": [
    "This example was adapted from skaae's Lasagne [recipe](https://github.com/skaae/Recipes/blob/spatial_transform/examples/spatial_transformer_network.ipynb).  \n",
    "You can download skaae's Cluttered MNIST dataset [here](https://s3.amazonaws.com/lasagne/recipes/datasets/mnist_cluttered_60x60_6distortions.npz).\n",
    "This ipython notebook was adapted from Seya's spatial transformer network example\n",
    "(https://github.com/EderSantana/seya/blob/keras1/examples/Spatial%20Transformer%20Networks.ipynb)\n",
    "\n",
    "Reference at [arXiv](http://arxiv.org/abs/1506.02025)"
   ]
  },
  {
   "cell_type": "code",
   "execution_count": 5,
   "metadata": {
    "collapsed": false
   },
   "outputs": [],
   "source": [
    "%matplotlib inline\n",
    "\n",
    "import numpy as np\n",
    "np.random.seed(1337)  # for reproducibility\n",
    "import matplotlib.pyplot as plt\n",
    "from scipy.misc import imresize\n",
    "from keras.datasets import mnist\n",
    "from keras.models import Sequential\n",
    "from keras.layers.core import Dense, Dropout, Activation, Flatten\n",
    "from keras.layers.convolutional import Convolution2D, MaxPooling2D\n",
    "from keras.utils import np_utils\n",
    "from keras.utils import np_utils, generic_utils\n",
    "from keras.optimizers import Adam, SGD\n",
    "\n",
    "import keras.backend as K\n",
    "\n",
    "\n",
    "batch_size = 128\n",
    "nb_classes = 10\n",
    "nb_epoch = 12\n",
    "\n",
    "DIM = 60\n",
    "mnist_cluttered = \"datasets/mnist_cluttered_60x60_6distortions.npz\""
   ]
  },
  {
   "cell_type": "code",
   "execution_count": 6,
   "metadata": {
    "collapsed": true
   },
   "outputs": [],
   "source": [
    "from spatial_transformer import SpatialTransformer"
   ]
  },
  {
   "cell_type": "code",
   "execution_count": 7,
   "metadata": {
    "collapsed": false
   },
   "outputs": [
    {
     "name": "stdout",
     "output_type": "stream",
     "text": [
      "('X_train sample:', array([ 0.,  0.,  0., ...,  0.,  0.,  0.], dtype=float32))\n",
      "Train samples: (50000, 60, 60, 1)\n",
      "Validation samples: (10000, 60, 60, 1)\n",
      "Test samples: (10000, 60, 60, 1)\n",
      "('sample output:', array([[ 0.,  0.,  0., ...,  0.,  1.,  0.],\n",
      "       [ 1.,  0.,  0., ...,  0.,  0.,  0.],\n",
      "       [ 0.,  0.,  1., ...,  0.,  0.,  0.],\n",
      "       ..., \n",
      "       [ 1.,  0.,  0., ...,  0.,  0.,  0.],\n",
      "       [ 0.,  0.,  0., ...,  0.,  0.,  1.],\n",
      "       [ 0.,  0.,  0., ...,  1.,  0.,  0.]]))\n",
      "('output shape:', (50000, 10))\n",
      "('Input shape:', (60, 60, 1))\n"
     ]
    }
   ],
   "source": [
    "data = np.load(mnist_cluttered)\n",
    "X_train, y_train = data['x_train'], np.argmax(data['y_train'], axis=-1)\n",
    "print(\"X_train sample:\", X_train[0])\n",
    "X_valid, y_valid = data['x_valid'], np.argmax(data['y_valid'], axis=-1)\n",
    "X_test, y_test = data['x_test'], np.argmax(data['y_test'], axis=-1)\n",
    "# reshape for convolutions\n",
    "X_train = X_train.reshape((X_train.shape[0], DIM, DIM, 1))\n",
    "X_valid = X_valid.reshape((X_valid.shape[0], DIM, DIM, 1))\n",
    "X_test = X_test.reshape((X_test.shape[0], DIM, DIM, 1))\n",
    "#one hot\n",
    "y_train = np_utils.to_categorical(y_train, nb_classes)\n",
    "y_valid = np_utils.to_categorical(y_valid, nb_classes)\n",
    "y_test = np_utils.to_categorical(y_test, nb_classes)\n",
    "\n",
    "print(\"Train samples: {}\".format(X_train.shape))\n",
    "print(\"Validation samples: {}\".format(X_valid.shape))\n",
    "print(\"Test samples: {}\".format(X_test.shape))\n",
    "print(\"sample output:\",y_train)\n",
    "print(\"output shape:\", y_train.shape)\n",
    "input_shape =  np.squeeze(X_train.shape[1:])\n",
    "input_shape = (60,60,1)\n",
    "print(\"Input shape:\",input_shape)"
   ]
  },
  {
   "cell_type": "code",
   "execution_count": 8,
   "metadata": {
    "collapsed": false
   },
   "outputs": [
    {
     "data": {
      "image/png": "[encoded data removed]",
      "text/plain": [
       "<matplotlib.figure.Figure at 0x7f308419bf50>"
      ]
     },
     "metadata": {},
     "output_type": "display_data"
    }
   ],
   "source": [
    "plt.figure(figsize=(7,7))\n",
    "plt.imshow(X_train[101].reshape(DIM, DIM), cmap='gray', interpolation='none')\n",
    "plt.title('Cluttered MNIST', fontsize=20)\n",
    "plt.axis('off')\n",
    "plt.show()"
   ]
  },
  {
   "cell_type": "code",
   "execution_count": 30,
   "metadata": {
    "collapsed": false,
    "scrolled": false
   },
   "outputs": [],
   "source": [
    "model = Sequential()\n",
    "\n",
    "# model.add(SpatialTransformer(localization_net=locnet,\n",
    "#                              output_size=(30,30), input_shape=input_shape))\n",
    "model.add(Convolution2D(32, (3, 3), padding='same', input_shape=input_shape))\n",
    "model.add(Activation('relu'))\n",
    "model.add(MaxPooling2D(pool_size=(2, 2)))\n",
    "\n",
    "model.add(Convolution2D(32, (3, 3), padding='same'))\n",
    "model.add(Activation('relu'))\n",
    "model.add(MaxPooling2D(pool_size=(2, 2)))\n",
    "model.add(Convolution2D(32, (3, 3), padding='same'))\n",
    "model.add(Activation('relu'))\n",
    "model.add(MaxPooling2D(pool_size=(2, 2)))\n",
    "model.add(Convolution2D(32, (3, 3)))\n",
    "model.add(Activation('relu'))\n",
    "model.add(MaxPooling2D(pool_size=(2, 2)))\n",
    "\n",
    "model.add(Flatten())\n",
    "model.add(Dense(256))\n",
    "model.add(Activation('relu'))\n",
    "\n",
    "model.add(Dense(nb_classes))\n",
    "model.add(Activation('softmax'))\n",
    "\n",
    "model.compile(loss='categorical_crossentropy', optimizer='adam', metrics = ['accuracy'])"
   ]
  },
  {
   "cell_type": "code",
   "execution_count": 31,
   "metadata": {
    "collapsed": false
   },
   "outputs": [
    {
     "name": "stdout",
     "output_type": "stream",
     "text": [
      "_________________________________________________________________\n",
      "Layer (type)                 Output Shape              Param #   \n",
      "=================================================================\n",
      "conv2d_16 (Conv2D)           (None, 60, 60, 32)        320       \n",
      "_________________________________________________________________\n",
      "activation_24 (Activation)   (None, 60, 60, 32)        0         \n",
      "_________________________________________________________________\n",
      "max_pooling2d_15 (MaxPooling (None, 30, 30, 32)        0         \n",
      "_________________________________________________________________\n",
      "conv2d_17 (Conv2D)           (None, 30, 30, 32)        9248      \n",
      "_________________________________________________________________\n",
      "activation_25 (Activation)   (None, 30, 30, 32)        0         \n",
      "_________________________________________________________________\n",
      "max_pooling2d_16 (MaxPooling (None, 15, 15, 32)        0         \n",
      "_________________________________________________________________\n",
      "conv2d_18 (Conv2D)           (None, 15, 15, 32)        9248      \n",
      "_________________________________________________________________\n",
      "activation_26 (Activation)   (None, 15, 15, 32)        0         \n",
      "_________________________________________________________________\n",
      "max_pooling2d_17 (MaxPooling (None, 7, 7, 32)          0         \n",
      "_________________________________________________________________\n",
      "conv2d_19 (Conv2D)           (None, 5, 5, 32)          9248      \n",
      "_________________________________________________________________\n",
      "activation_27 (Activation)   (None, 5, 5, 32)          0         \n",
      "_________________________________________________________________\n",
      "max_pooling2d_18 (MaxPooling (None, 2, 2, 32)          0         \n",
      "_________________________________________________________________\n",
      "flatten_7 (Flatten)          (None, 128)               0         \n",
      "_________________________________________________________________\n",
      "dense_13 (Dense)             (None, 256)               33024     \n",
      "_________________________________________________________________\n",
      "activation_28 (Activation)   (None, 256)               0         \n",
      "_________________________________________________________________\n",
      "dense_14 (Dense)             (None, 10)                2570      \n",
      "_________________________________________________________________\n",
      "activation_29 (Activation)   (None, 10)                0         \n",
      "=================================================================\n",
      "Total params: 63,658\n",
      "Trainable params: 63,658\n",
      "Non-trainable params: 0\n",
      "_________________________________________________________________\n"
     ]
    }
   ],
   "source": [
    "model.summary()"
   ]
  },
  {
   "cell_type": "code",
   "execution_count": 33,
   "metadata": {
    "collapsed": false,
    "scrolled": false
   },
   "outputs": [
    {
     "name": "stdout",
     "output_type": "stream",
     "text": [
      "10000/10000 [==============================] - 2s 236us/step\n",
      "10000/10000 [==============================] - 4s 362us/step\n",
      "Epoch: 0 | Valid Score: 0.286230843526| Test Score: 0.276550117421| Valid Acc: 0.9092 | Test Acc: 0.9099\n",
      "10000/10000 [==============================] - 4s 434us/step\n",
      "10000/10000 [==============================] - 3s 292us/step\n",
      "Epoch: 1 | Valid Score: 0.257212904239| Test Score: 0.249329260373| Valid Acc: 0.9192 | Test Acc: 0.9193\n",
      "10000/10000 [==============================] - 4s 434us/step\n",
      "10000/10000 [==============================] - 2s 156us/step\n",
      "Epoch: 2 | Valid Score: 0.2397247015| Test Score: 0.234394685733| Valid Acc: 0.9276 | Test Acc: 0.9254\n",
      "10000/10000 [==============================] - 4s 372us/step\n",
      "10000/10000 [==============================] - 2s 238us/step\n",
      "Epoch: 3 | Valid Score: 0.244692544448| Test Score: 0.242233290547| Valid Acc: 0.9246 | Test Acc: 0.9239\n",
      "10000/10000 [==============================] - 4s 396us/step\n",
      "10000/10000 [==============================] - 2s 238us/step\n",
      "Epoch: 4 | Valid Score: 0.247610939517| Test Score: 0.247166746289| Valid Acc: 0.9258 | Test Acc: 0.9247\n",
      "10000/10000 [==============================] - 4s 382us/step\n",
      "10000/10000 [==============================] - 2s 237us/step\n",
      "Epoch: 5 | Valid Score: 0.249072590823| Test Score: 0.249876299232| Valid Acc: 0.9273 | Test Acc: 0.9259\n",
      "10000/10000 [==============================] - 4s 366us/step\n",
      "10000/10000 [==============================] - 2s 237us/step\n",
      "Epoch: 6 | Valid Score: 0.244857515211| Test Score: 0.247042469177| Valid Acc: 0.9293 | Test Acc: 0.9268\n",
      "10000/10000 [==============================] - 3s 343us/step\n",
      "10000/10000 [==============================] - 2s 237us/step\n",
      "Epoch: 7 | Valid Score: 0.232473776738| Test Score: 0.234839513724| Valid Acc: 0.9345 | Test Acc: 0.9308\n",
      "10000/10000 [==============================] - 3s 316us/step\n",
      "10000/10000 [==============================] - 2s 237us/step\n",
      "Epoch: 8 | Valid Score: 0.233194020806| Test Score: 0.231825927085| Valid Acc: 0.9348 | Test Acc: 0.9314\n",
      "10000/10000 [==============================] - 3s 307us/step\n",
      "10000/10000 [==============================] - 2s 237us/step\n",
      "Epoch: 9 | Valid Score: 0.233295492175| Test Score: 0.231394028954| Valid Acc: 0.9358 | Test Acc: 0.9328\n",
      "10000/10000 [==============================] - 3s 288us/step\n",
      "10000/10000 [==============================] - 2s 235us/step\n",
      "Epoch: 10 | Valid Score: 0.244095114252| Test Score: 0.244567054206| Valid Acc: 0.9355 | Test Acc: 0.9324\n",
      "10000/10000 [==============================] - 3s 275us/step\n",
      "10000/10000 [==============================] - 2s 238us/step\n",
      "Epoch: 11 | Valid Score: 0.254568371593| Test Score: 0.261004400414| Valid Acc: 0.9317 | Test Acc: 0.9304\n",
      "10000/10000 [==============================] - 3s 260us/step\n",
      "10000/10000 [==============================] - 2s 237us/step\n",
      "Epoch: 12 | Valid Score: 0.225067268665| Test Score: 0.226670103241| Valid Acc: 0.9384 | Test Acc: 0.9404\n",
      "10000/10000 [==============================] - 2s 245us/step\n",
      "10000/10000 [==============================] - 2s 236us/step\n",
      "Epoch: 13 | Valid Score: 0.193725088401| Test Score: 0.189792782838| Valid Acc: 0.9454 | Test Acc: 0.9447\n",
      "10000/10000 [==============================] - 2s 237us/step\n",
      "10000/10000 [==============================] - 2s 240us/step\n",
      "Epoch: 14 | Valid Score: 0.226660766265| Test Score: 0.224567729801| Valid Acc: 0.9385 | Test Acc: 0.9387\n",
      "10000/10000 [==============================] - 2s 235us/step\n",
      "10000/10000 [==============================] - 3s 252us/step\n",
      "Epoch: 15 | Valid Score: 0.266807235914| Test Score: 0.270696535021| Valid Acc: 0.9284 | Test Acc: 0.9285\n",
      "10000/10000 [==============================] - 2s 239us/step\n",
      "10000/10000 [==============================] - 3s 262us/step\n",
      "Epoch: 16 | Valid Score: 0.272695597017| Test Score: 0.279898469167| Valid Acc: 0.9315 | Test Acc: 0.929\n",
      "10000/10000 [==============================] - 2s 237us/step\n",
      "10000/10000 [==============================] - 3s 276us/step\n",
      "Epoch: 17 | Valid Score: 0.242178307615| Test Score: 0.245424591617| Valid Acc: 0.9405 | Test Acc: 0.9396\n",
      "10000/10000 [==============================] - 2s 238us/step\n",
      "10000/10000 [==============================] - 3s 289us/step\n",
      "Epoch: 18 | Valid Score: 0.248378417394| Test Score: 0.251568388822| Valid Acc: 0.9364 | Test Acc: 0.937\n",
      "10000/10000 [==============================] - 2s 239us/step\n",
      "10000/10000 [==============================] - 3s 300us/step\n",
      "Epoch: 19 | Valid Score: 0.210916120792| Test Score: 0.208377134144| Valid Acc: 0.9475 | Test Acc: 0.9464\n",
      "10000/10000 [==============================] - 2s 237us/step\n",
      "10000/10000 [==============================] - 3s 315us/step\n",
      "Epoch: 20 | Valid Score: 0.235274640076| Test Score: 0.233118693341| Valid Acc: 0.9421 | Test Acc: 0.9428\n",
      "10000/10000 [==============================] - 2s 237us/step\n",
      "10000/10000 [==============================] - 3s 336us/step\n",
      "Epoch: 21 | Valid Score: 0.231807618374| Test Score: 0.22627757335| Valid Acc: 0.9414 | Test Acc: 0.9432\n",
      "10000/10000 [==============================] - 2s 238us/step\n",
      "10000/10000 [==============================] - 4s 353us/step\n",
      "Epoch: 22 | Valid Score: 0.237440321994| Test Score: 0.226959987689| Valid Acc: 0.9424 | Test Acc: 0.9447\n",
      "10000/10000 [==============================] - 2s 239us/step\n",
      "10000/10000 [==============================] - 4s 371us/step\n",
      "Epoch: 23 | Valid Score: 0.255615503103| Test Score: 0.242109976321| Valid Acc: 0.9438 | Test Acc: 0.9442\n",
      "10000/10000 [==============================] - 2s 157us/step\n",
      "10000/10000 [==============================] - 1s 148us/step\n",
      "Epoch: 24 | Valid Score: 0.248650138354| Test Score: 0.23426257423| Valid Acc: 0.9453 | Test Acc: 0.9493\n",
      "10000/10000 [==============================] - 2s 154us/step\n",
      "10000/10000 [==============================] - 1s 149us/step\n",
      "Epoch: 25 | Valid Score: 0.264544511897| Test Score: 0.243188934933| Valid Acc: 0.9449 | Test Acc: 0.9466\n",
      "10000/10000 [==============================] - 2s 157us/step\n",
      "10000/10000 [==============================] - 2s 156us/step\n",
      "Epoch: 26 | Valid Score: 0.264491077885| Test Score: 0.248197855111| Valid Acc: 0.9419 | Test Acc: 0.9447\n",
      "10000/10000 [==============================] - 2s 158us/step\n",
      "10000/10000 [==============================] - 2s 160us/step\n",
      "Epoch: 27 | Valid Score: 0.272962232511| Test Score: 0.257628834244| Valid Acc: 0.9449 | Test Acc: 0.9459\n",
      "10000/10000 [==============================] - 2s 162us/step\n",
      "10000/10000 [==============================] - 2s 161us/step\n",
      "Epoch: 28 | Valid Score: 0.276494894203| Test Score: 0.269995210244| Valid Acc: 0.9466 | Test Acc: 0.9467\n",
      "10000/10000 [==============================] - 2s 156us/step\n",
      "10000/10000 [==============================] - 2s 159us/step\n",
      "Epoch: 29 | Valid Score: 0.286926664614| Test Score: 0.267273820175| Valid Acc: 0.9466 | Test Acc: 0.9492\n",
      "10000/10000 [==============================] - 2s 159us/step\n",
      "10000/10000 [==============================] - 2s 165us/step\n",
      "Epoch: 30 | Valid Score: 0.318943144045| Test Score: 0.316810272041| Valid Acc: 0.9417 | Test Acc: 0.9432\n",
      "10000/10000 [==============================] - 2s 156us/step\n",
      "10000/10000 [==============================] - 2s 152us/step\n",
      "Epoch: 31 | Valid Score: 0.320077436346| Test Score: 0.301455137744| Valid Acc: 0.9432 | Test Acc: 0.9451\n",
      "10000/10000 [==============================] - 2s 154us/step\n",
      "10000/10000 [==============================] - 2s 159us/step\n",
      "Epoch: 32 | Valid Score: 0.292501485406| Test Score: 0.278927005032| Valid Acc: 0.9463 | Test Acc: 0.9483\n",
      "10000/10000 [==============================] - 2s 157us/step\n",
      "10000/10000 [==============================] - 2s 153us/step\n",
      "Epoch: 33 | Valid Score: 0.307846714303| Test Score: 0.304238374319| Valid Acc: 0.946 | Test Acc: 0.9478\n",
      "10000/10000 [==============================] - 2s 153us/step\n",
      "10000/10000 [==============================] - 1s 148us/step\n",
      "Epoch: 34 | Valid Score: 0.288837886062| Test Score: 0.27825495564| Valid Acc: 0.9466 | Test Acc: 0.9499\n",
      "10000/10000 [==============================] - 2s 157us/step\n",
      "10000/10000 [==============================] - 2s 151us/step\n",
      "Epoch: 35 | Valid Score: 0.291178100184| Test Score: 0.278173235402| Valid Acc: 0.9464 | Test Acc: 0.9486\n",
      "10000/10000 [==============================] - 2s 153us/step\n",
      "10000/10000 [==============================] - 2s 153us/step\n",
      "Epoch: 36 | Valid Score: 0.319445409434| Test Score: 0.307842985593| Valid Acc: 0.9451 | Test Acc: 0.9488\n",
      "10000/10000 [==============================] - 2s 158us/step\n",
      "10000/10000 [==============================] - 2s 152us/step\n",
      "Epoch: 37 | Valid Score: 0.287948700994| Test Score: 0.276756820879| Valid Acc: 0.9472 | Test Acc: 0.9506\n",
      "10000/10000 [==============================] - 2s 155us/step\n",
      "10000/10000 [==============================] - 2s 150us/step\n",
      "Epoch: 38 | Valid Score: 0.308544385256| Test Score: 0.31369314092| Valid Acc: 0.9448 | Test Acc: 0.9471\n",
      "10000/10000 [==============================] - 2s 159us/step\n",
      "10000/10000 [==============================] - 1s 150us/step\n",
      "Epoch: 39 | Valid Score: 0.296879852806| Test Score: 0.293887911901| Valid Acc: 0.9488 | Test Acc: 0.9498\n",
      "10000/10000 [==============================] - 2s 155us/step\n",
      "10000/10000 [==============================] - 2s 151us/step\n",
      "Epoch: 40 | Valid Score: 0.314723046239| Test Score: 0.307217531671| Valid Acc: 0.9469 | Test Acc: 0.9471\n",
      "10000/10000 [==============================] - 2s 153us/step\n",
      "10000/10000 [==============================] - 1s 150us/step\n",
      "Epoch: 41 | Valid Score: 0.312033392667| Test Score: 0.28630552131| Valid Acc: 0.9476 | Test Acc: 0.9516\n",
      "10000/10000 [==============================] - 2s 158us/step\n",
      "10000/10000 [==============================] - 2s 153us/step\n",
      "Epoch: 42 | Valid Score: 0.317816501257| Test Score: 0.308697617981| Valid Acc: 0.9464 | Test Acc: 0.9465\n",
      "10000/10000 [==============================] - 2s 168us/step\n",
      "10000/10000 [==============================] - 2s 156us/step\n",
      "Epoch: 43 | Valid Score: 0.300297089164| Test Score: 0.304919046986| Valid Acc: 0.9468 | Test Acc: 0.9484\n",
      "10000/10000 [==============================] - 2s 160us/step\n",
      "10000/10000 [==============================] - 2s 152us/step\n",
      "Epoch: 44 | Valid Score: 0.33662858625| Test Score: 0.344488421102| Valid Acc: 0.9441 | Test Acc: 0.9464\n",
      "10000/10000 [==============================] - 2s 162us/step\n",
      "10000/10000 [==============================] - 2s 154us/step\n",
      "Epoch: 45 | Valid Score: 0.336332814911| Test Score: 0.343216333147| Valid Acc: 0.9461 | Test Acc: 0.9451\n",
      "10000/10000 [==============================] - 2s 165us/step\n",
      "10000/10000 [==============================] - 2s 161us/step\n",
      "Epoch: 46 | Valid Score: 0.342921632128| Test Score: 0.347120864644| Valid Acc: 0.9423 | Test Acc: 0.9434\n",
      "10000/10000 [==============================] - 2s 157us/step\n",
      "10000/10000 [==============================] - 2s 156us/step\n",
      "Epoch: 47 | Valid Score: 0.313227455936| Test Score: 0.314727305707| Valid Acc: 0.9482 | Test Acc: 0.9483\n",
      "10000/10000 [==============================] - 2s 153us/step\n",
      "10000/10000 [==============================] - 2s 151us/step\n",
      "Epoch: 48 | Valid Score: 0.270614201604| Test Score: 0.286620766987| Valid Acc: 0.9503 | Test Acc: 0.9493\n",
      "10000/10000 [==============================] - 2s 156us/step\n",
      "10000/10000 [==============================] - 2s 150us/step\n",
      "Epoch: 49 | Valid Score: 0.327473154153| Test Score: 0.331722198257| Valid Acc: 0.9452 | Test Acc: 0.9435\n",
      "10000/10000 [==============================] - 2s 151us/step\n",
      "10000/10000 [==============================] - 2s 155us/step\n",
      "Epoch: 50 | Valid Score: 0.290972469397| Test Score: 0.294900215899| Valid Acc: 0.9455 | Test Acc: 0.9468\n",
      "10000/10000 [==============================] - 2s 152us/step\n",
      "10000/10000 [==============================] - 2s 152us/step\n",
      "Epoch: 51 | Valid Score: 0.289985319037| Test Score: 0.288395643564| Valid Acc: 0.9514 | Test Acc: 0.9502\n",
      "10000/10000 [==============================] - 2s 155us/step\n",
      "10000/10000 [==============================] - 2s 158us/step\n",
      "Epoch: 52 | Valid Score: 0.341568345216| Test Score: 0.343736773201| Valid Acc: 0.9423 | Test Acc: 0.9428\n",
      "10000/10000 [==============================] - 2s 152us/step\n",
      "10000/10000 [==============================] - 2s 150us/step\n",
      "Epoch: 53 | Valid Score: 0.284838586581| Test Score: 0.284180467065| Valid Acc: 0.9479 | Test Acc: 0.9488\n",
      "10000/10000 [==============================] - 2s 154us/step\n",
      "10000/10000 [==============================] - 1s 149us/step\n",
      "Epoch: 54 | Valid Score: 0.289072102261| Test Score: 0.289875175548| Valid Acc: 0.9458 | Test Acc: 0.9466\n",
      "10000/10000 [==============================] - 2s 151us/step\n",
      "10000/10000 [==============================] - 2s 151us/step\n",
      "Epoch: 55 | Valid Score: 0.30212839766| Test Score: 0.30834519172| Valid Acc: 0.9475 | Test Acc: 0.9489\n",
      "10000/10000 [==============================] - 2s 153us/step\n",
      "10000/10000 [==============================] - 2s 154us/step\n",
      "Epoch: 56 | Valid Score: 0.31882758342| Test Score: 0.308186842761| Valid Acc: 0.9465 | Test Acc: 0.9468\n",
      "10000/10000 [==============================] - 2s 160us/step\n",
      "10000/10000 [==============================] - 1s 148us/step\n",
      "Epoch: 57 | Valid Score: 0.29034014458| Test Score: 0.287590437163| Valid Acc: 0.9505 | Test Acc: 0.95\n",
      "10000/10000 [==============================] - 2s 153us/step\n",
      "10000/10000 [==============================] - 1s 149us/step\n",
      "Epoch: 58 | Valid Score: 0.315514602029| Test Score: 0.325370792802| Valid Acc: 0.9464 | Test Acc: 0.9458\n",
      "10000/10000 [==============================] - 2s 160us/step\n",
      "10000/10000 [==============================] - 1s 149us/step\n",
      "Epoch: 59 | Valid Score: 0.307411204393| Test Score: 0.312628447022| Valid Acc: 0.9511 | Test Acc: 0.9531\n",
      "10000/10000 [==============================] - 2s 154us/step\n",
      "10000/10000 [==============================] - 2s 153us/step\n",
      "Epoch: 60 | Valid Score: 0.312476524113| Test Score: 0.309502519201| Valid Acc: 0.9497 | Test Acc: 0.9524\n",
      "10000/10000 [==============================] - 2s 152us/step\n",
      "10000/10000 [==============================] - 2s 151us/step\n",
      "Epoch: 61 | Valid Score: 0.307771028129| Test Score: 0.308508122868| Valid Acc: 0.9504 | Test Acc: 0.9526\n",
      "10000/10000 [==============================] - 2s 154us/step\n",
      "10000/10000 [==============================] - 1s 150us/step\n",
      "Epoch: 62 | Valid Score: 0.34449236482| Test Score: 0.331405847632| Valid Acc: 0.9484 | Test Acc: 0.9493\n",
      "10000/10000 [==============================] - 2s 162us/step\n",
      "10000/10000 [==============================] - 1s 148us/step\n",
      "Epoch: 63 | Valid Score: 0.353260427236| Test Score: 0.365562473818| Valid Acc: 0.9458 | Test Acc: 0.9435\n",
      "10000/10000 [==============================] - 2s 159us/step\n",
      "10000/10000 [==============================] - 1s 149us/step\n",
      "Epoch: 64 | Valid Score: 0.306776535534| Test Score: 0.312548000513| Valid Acc: 0.951 | Test Acc: 0.953\n",
      "10000/10000 [==============================] - 2s 153us/step\n",
      "10000/10000 [==============================] - 2s 151us/step\n",
      "Epoch: 65 | Valid Score: 0.310193078012| Test Score: 0.31022959795| Valid Acc: 0.9521 | Test Acc: 0.9529\n",
      "10000/10000 [==============================] - 2s 157us/step\n",
      "10000/10000 [==============================] - 1s 150us/step\n",
      "Epoch: 66 | Valid Score: 0.35890736726| Test Score: 0.343520506005| Valid Acc: 0.9495 | Test Acc: 0.9519\n",
      "10000/10000 [==============================] - 2s 153us/step\n",
      "10000/10000 [==============================] - 2s 154us/step\n",
      "Epoch: 67 | Valid Score: 0.336292944755| Test Score: 0.319179821432| Valid Acc: 0.9501 | Test Acc: 0.9532\n",
      "10000/10000 [==============================] - 2s 155us/step\n",
      "10000/10000 [==============================] - 1s 149us/step\n",
      "Epoch: 68 | Valid Score: 0.353497664783| Test Score: 0.346695172672| Valid Acc: 0.946 | Test Acc: 0.9493\n",
      "10000/10000 [==============================] - 2s 153us/step\n",
      "10000/10000 [==============================] - 2s 151us/step\n",
      "Epoch: 69 | Valid Score: 0.345501007026| Test Score: 0.335625516091| Valid Acc: 0.949 | Test Acc: 0.9523\n",
      "10000/10000 [==============================] - 2s 153us/step\n",
      "10000/10000 [==============================] - 1s 150us/step\n",
      "Epoch: 70 | Valid Score: 0.318964527194| Test Score: 0.312055610933| Valid Acc: 0.949 | Test Acc: 0.9531\n",
      "10000/10000 [==============================] - 2s 154us/step\n",
      "10000/10000 [==============================] - 1s 150us/step\n",
      "Epoch: 71 | Valid Score: 0.349253021537| Test Score: 0.336793410905| Valid Acc: 0.9495 | Test Acc: 0.9522\n",
      "10000/10000 [==============================] - 2s 157us/step\n",
      "10000/10000 [==============================] - 1s 149us/step\n",
      "Epoch: 72 | Valid Score: 0.364133891677| Test Score: 0.354477174877| Valid Acc: 0.9462 | Test Acc: 0.9514\n",
      "10000/10000 [==============================] - 2s 151us/step\n",
      "10000/10000 [==============================] - 1s 148us/step\n",
      "Epoch: 73 | Valid Score: 0.331863307848| Test Score: 0.324243054765| Valid Acc: 0.9503 | Test Acc: 0.9519\n",
      "10000/10000 [==============================] - 2s 164us/step\n",
      "10000/10000 [==============================] - 1s 148us/step\n",
      "Epoch: 74 | Valid Score: 0.325619170764| Test Score: 0.330304422235| Valid Acc: 0.9505 | Test Acc: 0.9516\n",
      "10000/10000 [==============================] - 2s 154us/step\n",
      "10000/10000 [==============================] - 1s 150us/step\n",
      "Epoch: 75 | Valid Score: 0.319040267294| Test Score: 0.320499378406| Valid Acc: 0.952 | Test Acc: 0.9537\n",
      "10000/10000 [==============================] - 2s 157us/step\n",
      "10000/10000 [==============================] - 2s 151us/step\n",
      "Epoch: 76 | Valid Score: 0.367532228737| Test Score: 0.349124490104| Valid Acc: 0.9505 | Test Acc: 0.9523\n",
      "10000/10000 [==============================] - 2s 160us/step\n",
      "10000/10000 [==============================] - 2s 153us/step\n",
      "Epoch: 77 | Valid Score: 0.341572638393| Test Score: 0.322308907737| Valid Acc: 0.9482 | Test Acc: 0.9492\n",
      "10000/10000 [==============================] - 2s 155us/step\n",
      "10000/10000 [==============================] - 1s 150us/step\n",
      "Epoch: 78 | Valid Score: 0.30410556627| Test Score: 0.304564099282| Valid Acc: 0.9521 | Test Acc: 0.953\n",
      "10000/10000 [==============================] - 2s 157us/step\n",
      "10000/10000 [==============================] - 2s 152us/step\n",
      "Epoch: 79 | Valid Score: 0.334819305234| Test Score: 0.325959951052| Valid Acc: 0.9486 | Test Acc: 0.9495\n",
      "10000/10000 [==============================] - 2s 154us/step\n",
      "10000/10000 [==============================] - 1s 150us/step\n",
      "Epoch: 80 | Valid Score: 0.346714176401| Test Score: 0.325768981001| Valid Acc: 0.9481 | Test Acc: 0.9513\n",
      "10000/10000 [==============================] - 2s 154us/step\n",
      "10000/10000 [==============================] - 1s 149us/step\n",
      "Epoch: 81 | Valid Score: 0.314261845382| Test Score: 0.314069898673| Valid Acc: 0.9523 | Test Acc: 0.9547\n",
      "10000/10000 [==============================] - 2s 153us/step\n",
      "10000/10000 [==============================] - 2s 151us/step\n",
      "Epoch: 82 | Valid Score: 0.318454655229| Test Score: 0.303292315831| Valid Acc: 0.9513 | Test Acc: 0.9555\n",
      "10000/10000 [==============================] - 2s 154us/step\n",
      "10000/10000 [==============================] - 2s 152us/step\n",
      "Epoch: 83 | Valid Score: 0.331570645983| Test Score: 0.311609703053| Valid Acc: 0.9494 | Test Acc: 0.9542\n",
      "10000/10000 [==============================] - 2s 155us/step\n",
      "10000/10000 [==============================] - 1s 150us/step\n",
      "Epoch: 84 | Valid Score: 0.350254132716| Test Score: 0.342569831869| Valid Acc: 0.9514 | Test Acc: 0.9514\n",
      "10000/10000 [==============================] - 2s 155us/step\n",
      "10000/10000 [==============================] - 2s 152us/step\n",
      "Epoch: 85 | Valid Score: 0.359493199721| Test Score: 0.343005552076| Valid Acc: 0.9492 | Test Acc: 0.9518\n",
      "10000/10000 [==============================] - 2s 158us/step\n",
      "10000/10000 [==============================] - 2s 154us/step\n",
      "Epoch: 86 | Valid Score: 0.326456818643| Test Score: 0.314118835983| Valid Acc: 0.9503 | Test Acc: 0.954\n",
      "10000/10000 [==============================] - 2s 159us/step\n",
      "10000/10000 [==============================] - 1s 150us/step\n",
      "Epoch: 87 | Valid Score: 0.343153145956| Test Score: 0.33778686997| Valid Acc: 0.9504 | Test Acc: 0.9536\n",
      "10000/10000 [==============================] - 2s 153us/step\n",
      "10000/10000 [==============================] - 2s 153us/step\n",
      "Epoch: 88 | Valid Score: 0.375393349999| Test Score: 0.359274668073| Valid Acc: 0.9479 | Test Acc: 0.9493\n",
      "10000/10000 [==============================] - 2s 163us/step\n",
      "10000/10000 [==============================] - 2s 151us/step\n",
      "Epoch: 89 | Valid Score: 0.331275797521| Test Score: 0.328827989066| Valid Acc: 0.9516 | Test Acc: 0.952\n",
      "10000/10000 [==============================] - 2s 154us/step\n",
      "10000/10000 [==============================] - 2s 151us/step\n",
      "Epoch: 90 | Valid Score: 0.330140707477| Test Score: 0.329640285471| Valid Acc: 0.9519 | Test Acc: 0.9525\n",
      "10000/10000 [==============================] - 2s 153us/step\n",
      "10000/10000 [==============================] - 2s 151us/step\n",
      "Epoch: 91 | Valid Score: 0.343908908624| Test Score: 0.33320040191| Valid Acc: 0.953 | Test Acc: 0.9518\n",
      "10000/10000 [==============================] - 2s 154us/step\n",
      "10000/10000 [==============================] - 2s 151us/step\n",
      "Epoch: 92 | Valid Score: 0.323113231352| Test Score: 0.32017637777| Valid Acc: 0.9513 | Test Acc: 0.9529\n",
      "10000/10000 [==============================] - 2s 158us/step\n",
      "10000/10000 [==============================] - 2s 151us/step\n",
      "Epoch: 93 | Valid Score: 0.321483155647| Test Score: 0.308233142565| Valid Acc: 0.9523 | Test Acc: 0.955\n",
      "10000/10000 [==============================] - 2s 158us/step\n",
      "10000/10000 [==============================] - 1s 148us/step\n",
      "Epoch: 94 | Valid Score: 0.318343648672| Test Score: 0.319670656976| Valid Acc: 0.9551 | Test Acc: 0.955\n",
      "10000/10000 [==============================] - 2s 150us/step\n",
      "10000/10000 [==============================] - 1s 150us/step\n",
      "Epoch: 95 | Valid Score: 0.374015581872| Test Score: 0.346661550276| Valid Acc: 0.948 | Test Acc: 0.952\n",
      "10000/10000 [==============================] - 2s 156us/step\n",
      "10000/10000 [==============================] - 2s 156us/step\n",
      "Epoch: 96 | Valid Score: 0.342524092957| Test Score: 0.320989869186| Valid Acc: 0.95 | Test Acc: 0.9544\n",
      "10000/10000 [==============================] - 2s 157us/step\n",
      "10000/10000 [==============================] - 1s 149us/step\n",
      "Epoch: 97 | Valid Score: 0.398820679623| Test Score: 0.381364692831| Valid Acc: 0.9428 | Test Acc: 0.9441\n",
      "10000/10000 [==============================] - 2s 158us/step\n",
      "10000/10000 [==============================] - 2s 150us/step\n",
      "Epoch: 98 | Valid Score: 0.36017651676| Test Score: 0.359053344317| Valid Acc: 0.9476 | Test Acc: 0.9506\n",
      "10000/10000 [==============================] - 2s 162us/step\n",
      "10000/10000 [==============================] - 2s 154us/step\n",
      "Epoch: 99 | Valid Score: 0.323014922794| Test Score: 0.316639634559| Valid Acc: 0.955 | Test Acc: 0.9559\n"
     ]
    },
    {
     "data": {
      "text/plain": [
       "<matplotlib.figure.Figure at 0x7f2fa40a6790>"
      ]
     },
     "metadata": {},
     "output_type": "display_data"
    }
   ],
   "source": [
    "nb_epochs = 50 # you probably want to go longer than this\n",
    "batch_size = 256\n",
    "fig = plt.figure()\n",
    "try:\n",
    "    for e in range(nb_epochs):\n",
    "#         print('-'*40)\n",
    "        #progbar = generic_utils.Progbar(X_train.shape[0])\n",
    "        for b in range(150):\n",
    "            #print(b)\n",
    "            f = b * batch_size\n",
    "            l = (b+1) * batch_size\n",
    "            X_batch = X_train[f:l].astype('float32')\n",
    "            y_batch = y_train[f:l].astype('float32')\n",
    "            loss = model.train_on_batch(X_batch, y_batch)\n",
    "            #print(loss)\n",
    "            #progbar.add(X_batch.shape[0], values=[(\"train loss\", loss)])\n",
    "        scorev, accv = model.evaluate(X_valid, y_valid, verbose=1)\n",
    "        scoret, acct = model.evaluate(X_test, y_test, verbose=1)\n",
    "        if(e%1==0):\n",
    "            print('Epoch: {0} | Valid Score: {1}| Test Score: {2}| Valid Acc: {3} | Test Acc: {4}'.format(e, scorev, scoret, accv, acct))\n",
    "        \n",
    "except KeyboardInterrupt:\n",
    "    pass"
   ]
  },
  {
   "cell_type": "markdown",
   "metadata": {},
   "source": [
    "### Visualizing what the Spatial Transformer learned"
   ]
  },
  {
   "cell_type": "code",
   "execution_count": 14,
   "metadata": {
    "collapsed": false
   },
   "outputs": [],
   "source": [
    "Xaug = X_train[:9]\n",
    "Xresult = F([Xaug.astype('float32')])"
   ]
  },
  {
   "cell_type": "code",
   "execution_count": 15,
   "metadata": {
    "collapsed": false
   },
   "outputs": [
    {
     "data": {
      "image/png": "[encoded data removed]",
      "text/plain": [
       "<matplotlib.figure.Figure at 0x7fb06ff96748>"
      ]
     },
     "metadata": {},
     "output_type": "display_data"
    }
   ],
   "source": [
    "# input\n",
    "for i in range(9):\n",
    "    plt.subplot(3, 3, i+1)\n",
    "    plt.imshow(np.squeeze(Xaug[i]), cmap='gray')\n",
    "    plt.axis('off')"
   ]
  },
  {
   "cell_type": "code",
   "execution_count": 16,
   "metadata": {
    "collapsed": false
   },
   "outputs": [
    {
     "data": {
      "image/png": "[encoded data removed]",
      "text/plain": [
       "<matplotlib.figure.Figure at 0x7fb03a289588>"
      ]
     },
     "metadata": {},
     "output_type": "display_data"
    }
   ],
   "source": [
    "# output\n",
    "for i in range(9):\n",
    "    plt.subplot(3, 3, i+1)\n",
    "    plt.imshow(np.squeeze(Xresult[0][i]), cmap='gray')\n",
    "    plt.axis('off')"
   ]
  },
  {
   "cell_type": "code",
   "execution_count": 21,
   "metadata": {
    "collapsed": false
   },
   "outputs": [],
   "source": [
    "w = 3\n",
    "h = 2\n",
    "import numpy as np"
   ]
  },
  {
   "cell_type": "code",
   "execution_count": 22,
   "metadata": {
    "collapsed": true
   },
   "outputs": [],
   "source": [
    "x = np.linspace(0,1,w)\n",
    "y = np.linspace(-3,-2,h)"
   ]
  },
  {
   "cell_type": "code",
   "execution_count": 23,
   "metadata": {
    "collapsed": false
   },
   "outputs": [],
   "source": [
    "x_t, y_t = np.meshgrid(x, y)"
   ]
  },
  {
   "cell_type": "code",
   "execution_count": 24,
   "metadata": {
    "collapsed": false
   },
   "outputs": [
    {
     "data": {
      "text/plain": [
       "array([0. , 0.5, 1. ])"
      ]
     },
     "execution_count": 24,
     "metadata": {},
     "output_type": "execute_result"
    }
   ],
   "source": [
    "x"
   ]
  },
  {
   "cell_type": "code",
   "execution_count": 25,
   "metadata": {
    "collapsed": false
   },
   "outputs": [
    {
     "data": {
      "text/plain": [
       "array([-3., -2.])"
      ]
     },
     "execution_count": 25,
     "metadata": {},
     "output_type": "execute_result"
    }
   ],
   "source": [
    "y"
   ]
  },
  {
   "cell_type": "code",
   "execution_count": 26,
   "metadata": {
    "collapsed": false
   },
   "outputs": [
    {
     "data": {
      "text/plain": [
       "array([[0. , 0.5, 1. ],\n",
       "       [0. , 0.5, 1. ]])"
      ]
     },
     "execution_count": 26,
     "metadata": {},
     "output_type": "execute_result"
    }
   ],
   "source": [
    "x_t"
   ]
  },
  {
   "cell_type": "code",
   "execution_count": 27,
   "metadata": {
    "collapsed": false
   },
   "outputs": [
    {
     "data": {
      "text/plain": [
       "array([[-3., -3., -3.],\n",
       "       [-2., -2., -2.]])"
      ]
     },
     "execution_count": 27,
     "metadata": {},
     "output_type": "execute_result"
    }
   ],
   "source": [
    "y_t"
   ]
  },
  {
   "cell_type": "code",
   "execution_count": 28,
   "metadata": {
    "collapsed": true
   },
   "outputs": [],
   "source": [
    "ones = np.ones(np.prod(x_t.shape))\n"
   ]
  },
  {
   "cell_type": "code",
   "execution_count": 29,
   "metadata": {
    "collapsed": false
   },
   "outputs": [
    {
     "data": {
      "text/plain": [
       "array([[ 0. ,  0.5,  1. ,  0. ,  0.5,  1. ],\n",
       "       [-3. , -3. , -3. , -2. , -2. , -2. ],\n",
       "       [ 1. ,  1. ,  1. ,  1. ,  1. ,  1. ]])"
      ]
     },
     "execution_count": 29,
     "metadata": {},
     "output_type": "execute_result"
    }
   ],
   "source": [
    "sampling_grid = np.vstack([x_t.flatten(), y_t.flatten(), ones])\n",
    "sampling_grid"
   ]
  },
  {
   "cell_type": "code",
   "execution_count": null,
   "metadata": {
    "collapsed": true
   },
   "outputs": [],
   "source": []
  }
 ],
 "metadata": {
  "kernelspec": {
   "display_name": "Python 2",
   "language": "python",
   "name": "python2"
  },
  "language_info": {
   "codemirror_mode": {
    "name": "ipython",
    "version": 2
   },
   "file_extension": ".py",
   "mimetype": "text/x-python",
   "name": "python",
   "nbconvert_exporter": "python",
   "pygments_lexer": "ipython2",
   "version": "2.7.12"
  }
 },
 "nbformat": 4,
 "nbformat_minor": 0
}
