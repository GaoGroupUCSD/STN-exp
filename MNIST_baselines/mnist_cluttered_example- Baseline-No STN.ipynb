{
 "cells": [
  {
   "cell_type": "markdown",
   "metadata": {},
   "source": [
    "## Code to generate a baseline on the MNIST cluttered dataset."
   ]
  },
  {
   "cell_type": "code",
   "execution_count": 1,
   "metadata": {
    "collapsed": false
   },
   "outputs": [
    {
     "name": "stderr",
     "output_type": "stream",
     "text": [
      "Using TensorFlow backend.\n"
     ]
    }
   ],
   "source": [
    "%matplotlib inline\n",
    "\n",
    "import numpy as np\n",
    "np.random.seed(1337)  # for reproducibility\n",
    "import matplotlib.pyplot as plt\n",
    "from scipy.misc import imresize\n",
    "from keras.datasets import mnist\n",
    "from keras.models import Sequential\n",
    "from keras.layers.core import Dense, Dropout, Activation, Flatten\n",
    "from keras.layers.convolutional import Convolution2D, MaxPooling2D\n",
    "from keras.utils import np_utils\n",
    "from keras.utils import np_utils, generic_utils\n",
    "from keras.optimizers import Adam, SGD\n",
    "\n",
    "import keras.backend as K\n",
    "import os\n",
    "os.environ[\"CUDA_VISIBLE_DEVICES\"]=\"1\"\n",
    "\n",
    "batch_size = 128\n",
    "nb_classes = 10\n",
    "nb_epoch = 12\n",
    "\n",
    "DIM = 60\n",
    "mnist_cluttered = \"./../datasets/mnist_cluttered_60x60_6distortions.npz\""
   ]
  },
  {
   "cell_type": "code",
   "execution_count": 2,
   "metadata": {
    "collapsed": false
   },
   "outputs": [],
   "source": [
    "import sys\n",
    "sys.path.append('../')\n",
    "from spatial_transformer import SpatialTransformer"
   ]
  },
  {
   "cell_type": "code",
   "execution_count": 3,
   "metadata": {
    "collapsed": false
   },
   "outputs": [
    {
     "name": "stdout",
     "output_type": "stream",
     "text": [
      "('X_train sample:', array([ 0.,  0.,  0., ...,  0.,  0.,  0.], dtype=float32))\n",
      "Train samples: (50000, 60, 60, 1)\n",
      "Validation samples: (10000, 60, 60, 1)\n",
      "Test samples: (10000, 60, 60, 1)\n",
      "('sample output:', array([[ 0.,  0.,  0., ...,  0.,  1.,  0.],\n",
      "       [ 1.,  0.,  0., ...,  0.,  0.,  0.],\n",
      "       [ 0.,  0.,  1., ...,  0.,  0.,  0.],\n",
      "       ..., \n",
      "       [ 1.,  0.,  0., ...,  0.,  0.,  0.],\n",
      "       [ 0.,  0.,  0., ...,  0.,  0.,  1.],\n",
      "       [ 0.,  0.,  0., ...,  1.,  0.,  0.]]))\n",
      "('output shape:', (50000, 10))\n",
      "('Input shape:', (60, 60, 1))\n"
     ]
    }
   ],
   "source": [
    "data = np.load(mnist_cluttered)\n",
    "X_train, y_train = data['x_train'], np.argmax(data['y_train'], axis=-1)\n",
    "print(\"X_train sample:\", X_train[0])\n",
    "X_valid, y_valid = data['x_valid'], np.argmax(data['y_valid'], axis=-1)\n",
    "X_test, y_test = data['x_test'], np.argmax(data['y_test'], axis=-1)\n",
    "# reshape for convolutions\n",
    "X_train = X_train.reshape((X_train.shape[0], DIM, DIM, 1))\n",
    "X_valid = X_valid.reshape((X_valid.shape[0], DIM, DIM, 1))\n",
    "X_test = X_test.reshape((X_test.shape[0], DIM, DIM, 1))\n",
    "#one hot\n",
    "y_train = np_utils.to_categorical(y_train, nb_classes)\n",
    "y_valid = np_utils.to_categorical(y_valid, nb_classes)\n",
    "y_test = np_utils.to_categorical(y_test, nb_classes)\n",
    "\n",
    "print(\"Train samples: {}\".format(X_train.shape))\n",
    "print(\"Validation samples: {}\".format(X_valid.shape))\n",
    "print(\"Test samples: {}\".format(X_test.shape))\n",
    "print(\"sample output:\",y_train)\n",
    "print(\"output shape:\", y_train.shape)\n",
    "input_shape =  np.squeeze(X_train.shape[1:])\n",
    "input_shape = (60,60,1)\n",
    "print(\"Input shape:\",input_shape)"
   ]
  },
  {
   "cell_type": "code",
   "execution_count": 4,
   "metadata": {
    "collapsed": false
   },
   "outputs": [
    {
     "data": {
      "image/png": "[encoded data removed]",
      "text/plain": [
       "<matplotlib.figure.Figure at 0x7fb460088c90>"
      ]
     },
     "metadata": {},
     "output_type": "display_data"
    }
   ],
   "source": [
    "plt.figure(figsize=(7,7))\n",
    "plt.imshow(X_train[101].reshape(DIM, DIM), cmap='gray', interpolation='none')\n",
    "plt.title('Cluttered MNIST', fontsize=20)\n",
    "plt.axis('off')\n",
    "plt.show()"
   ]
  },
  {
   "cell_type": "markdown",
   "metadata": {},
   "source": [
    "## Old model "
   ]
  },
  {
   "cell_type": "code",
   "execution_count": 5,
   "metadata": {
    "collapsed": false,
    "scrolled": false
   },
   "outputs": [],
   "source": [
    "# model = Sequential()\n",
    "\n",
    "# # model.add(SpatialTransformer(localization_net=locnet,\n",
    "# #                              output_size=(30,30), input_shape=input_shape))\n",
    "# model.add(Convolution2D(32, (3, 3), padding='same', input_shape=input_shape))\n",
    "# model.add(Activation('relu'))\n",
    "# model.add(MaxPooling2D(pool_size=(2, 2)))\n",
    "\n",
    "# model.add(Convolution2D(32, (3, 3), padding='same'))\n",
    "# model.add(Activation('relu'))\n",
    "# model.add(MaxPooling2D(pool_size=(2, 2)))\n",
    "# model.add(Convolution2D(32, (3, 3), padding='same'))\n",
    "# model.add(Activation('relu'))\n",
    "# model.add(MaxPooling2D(pool_size=(2, 2)))\n",
    "# model.add(Convolution2D(32, (3, 3)))\n",
    "# model.add(Activation('relu'))\n",
    "# model.add(MaxPooling2D(pool_size=(2, 2)))\n",
    "\n",
    "# model.add(Flatten())\n",
    "# model.add(Dense(256))\n",
    "# model.add(Activation('relu'))\n",
    "\n",
    "# model.add(Dense(nb_classes))\n",
    "# model.add(Activation('softmax'))\n",
    "\n",
    "# model.compile(loss='categorical_crossentropy', optimizer='adam', metrics = ['accuracy'])"
   ]
  },
  {
   "cell_type": "code",
   "execution_count": 9,
   "metadata": {
    "collapsed": true
   },
   "outputs": [],
   "source": [
    "model = Sequential()\n",
    "\n",
    "model.add(Convolution2D(32, (9, 9), padding='same', input_shape=input_shape))\n",
    "model.add(Activation('relu'))\n",
    "model.add(MaxPooling2D(pool_size=(2, 2), strides = 2))\n",
    "\n",
    "\n",
    "model.add(Convolution2D(64, (1, 1), padding='same'))\n",
    "model.add(Activation('relu'))\n",
    "\n",
    "model.add(Convolution2D(32, (7, 7), padding='same'))\n",
    "model.add(Activation('relu'))\n",
    "model.add(MaxPooling2D(pool_size=(2, 2), strides = 2))\n",
    "model.add(Dropout(rate=0.4))\n",
    "\n",
    "\n",
    "model.add(Convolution2D(64, (1, 1), padding='same'))\n",
    "model.add(Activation('relu'))\n",
    "\n",
    "model.add(Convolution2D(64, (9, 9), padding='same', input_shape=input_shape))\n",
    "model.add(Activation('relu'))\n",
    "model.add(MaxPooling2D(pool_size=(2, 2), strides = 2))\n",
    "\n",
    "model.add(Convolution2D(64, (7, 7), padding='same'))\n",
    "model.add(Activation('relu'))\n",
    "model.add(MaxPooling2D(pool_size=(2, 2), strides = 2))\n",
    "model.add(Activation('relu'))\n",
    "\n",
    "\n",
    "model.add(Convolution2D(64, (1, 1), padding='same'))\n",
    "model.add(Activation('relu'))\n",
    "\n",
    "model.add(Flatten())\n",
    "# model.add(Dense(128))\n",
    "model.add(Dense(nb_classes))\n",
    "model.add(Activation('softmax'))\n",
    "\n",
    "model.compile(loss='categorical_crossentropy', optimizer='adam', metrics = ['accuracy'])"
   ]
  },
  {
   "cell_type": "code",
   "execution_count": 7,
   "metadata": {
    "collapsed": false
   },
   "outputs": [
    {
     "name": "stdout",
     "output_type": "stream",
     "text": [
      "_________________________________________________________________\n",
      "Layer (type)                 Output Shape              Param #   \n",
      "=================================================================\n",
      "conv2d_1 (Conv2D)            (None, 60, 60, 32)        2624      \n",
      "_________________________________________________________________\n",
      "activation_1 (Activation)    (None, 60, 60, 32)        0         \n",
      "_________________________________________________________________\n",
      "max_pooling2d_1 (MaxPooling2 (None, 30, 30, 32)        0         \n",
      "_________________________________________________________________\n",
      "conv2d_2 (Conv2D)            (None, 30, 30, 32)        50208     \n",
      "_________________________________________________________________\n",
      "activation_2 (Activation)    (None, 30, 30, 32)        0         \n",
      "_________________________________________________________________\n",
      "max_pooling2d_2 (MaxPooling2 (None, 15, 15, 32)        0         \n",
      "_________________________________________________________________\n",
      "dropout_1 (Dropout)          (None, 15, 15, 32)        0         \n",
      "_________________________________________________________________\n",
      "conv2d_3 (Conv2D)            (None, 15, 15, 64)        165952    \n",
      "_________________________________________________________________\n",
      "activation_3 (Activation)    (None, 15, 15, 64)        0         \n",
      "_________________________________________________________________\n",
      "max_pooling2d_3 (MaxPooling2 (None, 7, 7, 64)          0         \n",
      "_________________________________________________________________\n",
      "conv2d_4 (Conv2D)            (None, 7, 7, 64)          200768    \n",
      "_________________________________________________________________\n",
      "activation_4 (Activation)    (None, 7, 7, 64)          0         \n",
      "_________________________________________________________________\n",
      "max_pooling2d_4 (MaxPooling2 (None, 3, 3, 64)          0         \n",
      "_________________________________________________________________\n",
      "activation_5 (Activation)    (None, 3, 3, 64)          0         \n",
      "_________________________________________________________________\n",
      "flatten_1 (Flatten)          (None, 576)               0         \n",
      "_________________________________________________________________\n",
      "dense_1 (Dense)              (None, 10)                5770      \n",
      "_________________________________________________________________\n",
      "activation_6 (Activation)    (None, 10)                0         \n",
      "=================================================================\n",
      "Total params: 425,322\n",
      "Trainable params: 425,322\n",
      "Non-trainable params: 0\n",
      "_________________________________________________________________\n"
     ]
    }
   ],
   "source": [
    "model.summary()"
   ]
  },
  {
   "cell_type": "code",
   "execution_count": 8,
   "metadata": {
    "collapsed": false,
    "scrolled": false
   },
   "outputs": [
    {
     "name": "stdout",
     "output_type": "stream",
     "text": [
      "10000/10000 [==============================] - 9s 927us/step\n",
      "10000/10000 [==============================] - 9s 895us/step\n",
      "Epoch: 0 | Valid Score: 1.70849682846| Test Score: 1.70178248672| Valid Acc: 0.3784 | Test Acc: 0.3828\n",
      "10000/10000 [==============================] - 9s 915us/step\n",
      "10000/10000 [==============================] - 9s 910us/step\n",
      "Epoch: 1 | Valid Score: 0.537323592758| Test Score: 0.535161210728| Valid Acc: 0.8443 | Test Acc: 0.8413\n",
      "10000/10000 [==============================] - 9s 893us/step\n",
      "10000/10000 [==============================] - 9s 909us/step\n",
      "Epoch: 2 | Valid Score: 0.372728782797| Test Score: 0.362943500948| Valid Acc: 0.8907 | Test Acc: 0.8908\n",
      "10000/10000 [==============================] - 9s 908us/step\n",
      "10000/10000 [==============================] - 9s 901us/step\n",
      "Epoch: 3 | Valid Score: 0.324856452364| Test Score: 0.310651088059| Valid Acc: 0.9054 | Test Acc: 0.9083\n",
      "10000/10000 [==============================] - 9s 894us/step\n",
      "10000/10000 [==============================] - 9s 920us/step\n",
      "Epoch: 4 | Valid Score: 0.237566117066| Test Score: 0.228848910868| Valid Acc: 0.9281 | Test Acc: 0.9323\n",
      "10000/10000 [==============================] - 9s 899us/step\n",
      "10000/10000 [==============================] - 9s 893us/step\n",
      "Epoch: 5 | Valid Score: 0.238527429128| Test Score: 0.231906629437| Valid Acc: 0.9289 | Test Acc: 0.9305\n",
      "10000/10000 [==============================] - 7s 749us/step\n",
      "10000/10000 [==============================] - 7s 663us/step\n",
      "Epoch: 6 | Valid Score: 0.20513696003| Test Score: 0.200999903294| Valid Acc: 0.9383 | Test Acc: 0.9408\n",
      "10000/10000 [==============================] - 9s 899us/step\n",
      "10000/10000 [==============================] - 9s 904us/step\n",
      "Epoch: 7 | Valid Score: 0.178615191397| Test Score: 0.178859820984| Valid Acc: 0.9454 | Test Acc: 0.9482\n",
      "10000/10000 [==============================] - 9s 907us/step\n",
      "10000/10000 [==============================] - 9s 893us/step\n",
      "Epoch: 8 | Valid Score: 0.189855609715| Test Score: 0.184866892458| Valid Acc: 0.9432 | Test Acc: 0.9449\n",
      "10000/10000 [==============================] - 9s 899us/step\n",
      "10000/10000 [==============================] - 9s 915us/step\n",
      "Epoch: 9 | Valid Score: 0.20976388256| Test Score: 0.199946027046| Valid Acc: 0.9397 | Test Acc: 0.943\n",
      "10000/10000 [==============================] - 9s 915us/step\n",
      "10000/10000 [==============================] - 9s 877us/step\n",
      "Epoch: 10 | Valid Score: 0.190105255865| Test Score: 0.183739819395| Valid Acc: 0.9407 | Test Acc: 0.9464\n",
      "10000/10000 [==============================] - 9s 912us/step\n",
      "10000/10000 [==============================] - 9s 926us/step\n",
      "Epoch: 11 | Valid Score: 0.164684000888| Test Score: 0.163177355948| Valid Acc: 0.9518 | Test Acc: 0.9538\n",
      "10000/10000 [==============================] - 9s 896us/step\n",
      "10000/10000 [==============================] - 9s 906us/step\n",
      "Epoch: 12 | Valid Score: 0.183739697945| Test Score: 0.184317366856| Valid Acc: 0.9448 | Test Acc: 0.9474\n",
      "10000/10000 [==============================] - 9s 897us/step\n",
      "10000/10000 [==============================] - 9s 889us/step\n",
      "Epoch: 13 | Valid Score: 0.165113056401| Test Score: 0.162994526347| Valid Acc: 0.9491 | Test Acc: 0.9528\n",
      "10000/10000 [==============================] - 9s 897us/step\n",
      "10000/10000 [==============================] - 9s 922us/step\n",
      "Epoch: 14 | Valid Score: 0.170140526398| Test Score: 0.174701771208| Valid Acc: 0.9514 | Test Acc: 0.9515\n",
      "10000/10000 [==============================] - 9s 908us/step\n",
      "10000/10000 [==============================] - 9s 879us/step\n",
      "Epoch: 15 | Valid Score: 0.183098369673| Test Score: 0.181573438837| Valid Acc: 0.9511 | Test Acc: 0.9503\n",
      "10000/10000 [==============================] - 9s 922us/step\n",
      "10000/10000 [==============================] - 9s 926us/step\n",
      "Epoch: 16 | Valid Score: 0.173314180152| Test Score: 0.175531245428| Valid Acc: 0.9487 | Test Acc: 0.9488\n",
      "10000/10000 [==============================] - 9s 898us/step\n",
      "10000/10000 [==============================] - 9s 913us/step\n",
      "Epoch: 17 | Valid Score: 0.180289801914| Test Score: 0.179640530949| Valid Acc: 0.9482 | Test Acc: 0.9509\n",
      "10000/10000 [==============================] - 9s 900us/step\n",
      "10000/10000 [==============================] - 9s 884us/step\n",
      "Epoch: 18 | Valid Score: 0.202022798336| Test Score: 0.196869697062| Valid Acc: 0.9467 | Test Acc: 0.9472\n",
      "10000/10000 [==============================] - 9s 919us/step\n",
      "10000/10000 [==============================] - 9s 910us/step\n",
      "Epoch: 19 | Valid Score: 0.170231162826| Test Score: 0.170112908462| Valid Acc: 0.9518 | Test Acc: 0.9511\n",
      "10000/10000 [==============================] - 9s 904us/step\n",
      "10000/10000 [==============================] - 9s 882us/step\n",
      "Epoch: 20 | Valid Score: 0.179662494591| Test Score: 0.176591292805| Valid Acc: 0.9505 | Test Acc: 0.9533\n",
      "10000/10000 [==============================] - 9s 910us/step\n",
      "10000/10000 [==============================] - 9s 907us/step\n",
      "Epoch: 21 | Valid Score: 0.183643124141| Test Score: 0.173070840654| Valid Acc: 0.9521 | Test Acc: 0.954\n",
      "10000/10000 [==============================] - 9s 903us/step\n",
      "10000/10000 [==============================] - 9s 925us/step\n",
      "Epoch: 22 | Valid Score: 0.192304054786| Test Score: 0.180313961832| Valid Acc: 0.9503 | Test Acc: 0.9522\n",
      "10000/10000 [==============================] - 9s 903us/step\n",
      "10000/10000 [==============================] - 9s 885us/step\n",
      "Epoch: 23 | Valid Score: 0.193431542886| Test Score: 0.178378396589| Valid Acc: 0.9485 | Test Acc: 0.9528\n",
      "10000/10000 [==============================] - 9s 899us/step\n",
      "10000/10000 [==============================] - 9s 899us/step\n",
      "Epoch: 24 | Valid Score: 0.235892043499| Test Score: 0.226692162573| Valid Acc: 0.94 | Test Acc: 0.9415\n",
      "10000/10000 [==============================] - 9s 908us/step\n",
      "10000/10000 [==============================] - 9s 891us/step\n",
      "Epoch: 25 | Valid Score: 0.201712449028| Test Score: 0.187821589625| Valid Acc: 0.9491 | Test Acc: 0.951\n",
      "10000/10000 [==============================] - 9s 896us/step\n",
      "10000/10000 [==============================] - 9s 889us/step\n",
      "Epoch: 26 | Valid Score: 0.219630258175| Test Score: 0.219114448948| Valid Acc: 0.942 | Test Acc: 0.9441\n",
      "10000/10000 [==============================] - 9s 910us/step\n",
      "10000/10000 [==============================] - 9s 904us/step\n",
      "Epoch: 27 | Valid Score: 0.221751469957| Test Score: 0.208959805283| Valid Acc: 0.9473 | Test Acc: 0.9491\n",
      "10000/10000 [==============================] - 9s 889us/step\n",
      "10000/10000 [==============================] - 9s 894us/step\n",
      "Epoch: 28 | Valid Score: 0.214103158945| Test Score: 0.193522719342| Valid Acc: 0.9488 | Test Acc: 0.9512\n",
      "10000/10000 [==============================] - 9s 916us/step\n",
      "10000/10000 [==============================] - 9s 881us/step\n",
      "Epoch: 29 | Valid Score: 0.186798042576| Test Score: 0.177289603876| Valid Acc: 0.9544 | Test Acc: 0.9546\n",
      "10000/10000 [==============================] - 9s 916us/step\n",
      "10000/10000 [==============================] - 9s 918us/step\n",
      "Epoch: 30 | Valid Score: 0.197945642247| Test Score: 0.17593895426| Valid Acc: 0.9519 | Test Acc: 0.9546\n",
      "10000/10000 [==============================] - 9s 892us/step\n",
      "10000/10000 [==============================] - 9s 895us/step\n",
      "Epoch: 31 | Valid Score: 0.193815142841| Test Score: 0.185440893687| Valid Acc: 0.9535 | Test Acc: 0.9551\n",
      "10000/10000 [==============================] - 9s 905us/step\n",
      "10000/10000 [==============================] - 9s 895us/step\n",
      "Epoch: 32 | Valid Score: 0.202626540704| Test Score: 0.183040432852| Valid Acc: 0.9493 | Test Acc: 0.9531\n",
      "10000/10000 [==============================] - 9s 890us/step\n",
      "10000/10000 [==============================] - 9s 919us/step\n",
      "Epoch: 33 | Valid Score: 0.17819309718| Test Score: 0.17119905455| Valid Acc: 0.9543 | Test Acc: 0.9577\n",
      "10000/10000 [==============================] - 9s 914us/step\n",
      "10000/10000 [==============================] - 9s 897us/step\n",
      "Epoch: 34 | Valid Score: 0.204079470313| Test Score: 0.197711600102| Valid Acc: 0.9545 | Test Acc: 0.9555\n",
      "10000/10000 [==============================] - 9s 919us/step\n",
      "10000/10000 [==============================] - 9s 907us/step\n",
      "Epoch: 35 | Valid Score: 0.20446751009| Test Score: 0.201606036358| Valid Acc: 0.9532 | Test Acc: 0.9519\n",
      "10000/10000 [==============================] - 9s 903us/step\n",
      "10000/10000 [==============================] - 9s 900us/step\n",
      "Epoch: 36 | Valid Score: 0.246328233526| Test Score: 0.226419967047| Valid Acc: 0.9493 | Test Acc: 0.9501\n",
      "10000/10000 [==============================] - 9s 911us/step\n",
      "10000/10000 [==============================] - 9s 904us/step\n",
      "Epoch: 37 | Valid Score: 0.216842294314| Test Score: 0.195614977231| Valid Acc: 0.9496 | Test Acc: 0.9539\n",
      "10000/10000 [==============================] - 9s 882us/step\n",
      "10000/10000 [==============================] - 9s 897us/step\n",
      "Epoch: 38 | Valid Score: 0.191158087429| Test Score: 0.186917866427| Valid Acc: 0.9531 | Test Acc: 0.9546\n",
      "10000/10000 [==============================] - 9s 905us/step\n",
      "10000/10000 [==============================] - 9s 892us/step\n",
      "Epoch: 39 | Valid Score: 0.220965728255| Test Score: 0.219147517089| Valid Acc: 0.9517 | Test Acc: 0.9529\n",
      "10000/10000 [==============================] - 9s 911us/step\n",
      "10000/10000 [==============================] - 9s 920us/step\n",
      "Epoch: 40 | Valid Score: 0.204748213172| Test Score: 0.203434236904| Valid Acc: 0.9532 | Test Acc: 0.9557\n",
      "10000/10000 [==============================] - 9s 896us/step\n",
      "10000/10000 [==============================] - 9s 900us/step\n",
      "Epoch: 41 | Valid Score: 0.207047258101| Test Score: 0.202039885752| Valid Acc: 0.9545 | Test Acc: 0.9569\n",
      "10000/10000 [==============================] - 9s 908us/step\n",
      "10000/10000 [==============================] - 9s 907us/step\n",
      "Epoch: 42 | Valid Score: 0.21956704453| Test Score: 0.219871063008| Valid Acc: 0.9514 | Test Acc: 0.9517\n",
      "10000/10000 [==============================] - 9s 883us/step\n",
      "10000/10000 [==============================] - 9s 913us/step\n",
      "Epoch: 43 | Valid Score: 0.233584449395| Test Score: 0.231059861229| Valid Acc: 0.9495 | Test Acc: 0.9494\n",
      "10000/10000 [==============================] - 9s 910us/step\n",
      "10000/10000 [==============================] - 9s 883us/step\n",
      "Epoch: 44 | Valid Score: 0.215736868708| Test Score: 0.212701185011| Valid Acc: 0.949 | Test Acc: 0.9512\n",
      "10000/10000 [==============================] - 9s 908us/step\n",
      "10000/10000 [==============================] - 9s 900us/step\n",
      "Epoch: 45 | Valid Score: 0.193464296639| Test Score: 0.207205688624| Valid Acc: 0.9514 | Test Acc: 0.9519\n",
      "10000/10000 [==============================] - 9s 918us/step\n",
      "10000/10000 [==============================] - 9s 891us/step\n",
      "Epoch: 46 | Valid Score: 0.218577672435| Test Score: 0.211131327106| Valid Acc: 0.9512 | Test Acc: 0.9531\n",
      "10000/10000 [==============================] - 9s 910us/step\n",
      "10000/10000 [==============================] - 9s 908us/step\n",
      "Epoch: 47 | Valid Score: 0.220320035241| Test Score: 0.21085820095| Valid Acc: 0.9521 | Test Acc: 0.9545\n",
      "10000/10000 [==============================] - 9s 891us/step\n",
      "10000/10000 [==============================] - 9s 918us/step\n",
      "Epoch: 48 | Valid Score: 0.239454848737| Test Score: 0.230067211715| Valid Acc: 0.9512 | Test Acc: 0.9546\n",
      "10000/10000 [==============================] - 9s 913us/step\n",
      "10000/10000 [==============================] - 9s 936us/step\n",
      "Epoch: 49 | Valid Score: 0.285847884362| Test Score: 0.268243532031| Valid Acc: 0.9388 | Test Acc: 0.9428\n"
     ]
    },
    {
     "data": {
      "text/plain": [
       "<matplotlib.figure.Figure at 0x7fb4ccde1ad0>"
      ]
     },
     "metadata": {},
     "output_type": "display_data"
    }
   ],
   "source": [
    "nb_epochs = 15 # you probably want to go longer than this\n",
    "batch_size = 100\n",
    "fig = plt.figure()\n",
    "try:\n",
    "    for e in range(nb_epochs):\n",
    "#         print('-'*40)\n",
    "        #progbar = generic_utils.Progbar(X_train.shape[0])\n",
    "        for b in range(150):\n",
    "            #print(b)\n",
    "            f = b * batch_size\n",
    "            l = (b+1) * batch_size\n",
    "            X_batch = X_train[f:l].astype('float32')\n",
    "            y_batch = y_train[f:l].astype('float32')\n",
    "            loss = model.train_on_batch(X_batch, y_batch)\n",
    "            #print(loss)\n",
    "            #progbar.add(X_batch.shape[0], values=[(\"train loss\", loss)])\n",
    "        scorev, accv = model.evaluate(X_valid, y_valid, verbose=1)\n",
    "        scoret, acct = model.evaluate(X_test, y_test, verbose=1)\n",
    "        if(e%1==0):\n",
    "            print('Epoch: {0} | Valid Score: {1}| Test Score: {2}| Valid Acc: {3} | Test Acc: {4}'.format(e, scorev, scoret, accv, acct))\n",
    "        \n",
    "except KeyboardInterrupt:\n",
    "    pass"
   ]
  },
  {
   "cell_type": "code",
   "execution_count": null,
   "metadata": {
    "collapsed": true
   },
   "outputs": [],
   "source": []
  }
 ],
 "metadata": {
  "kernelspec": {
   "display_name": "Python 2",
   "language": "python",
   "name": "python2"
  },
  "language_info": {
   "codemirror_mode": {
    "name": "ipython",
    "version": 2
   },
   "file_extension": ".py",
   "mimetype": "text/x-python",
   "name": "python",
   "nbconvert_exporter": "python",
   "pygments_lexer": "ipython2",
   "version": "2.7.12"
  }
 },
 "nbformat": 4,
 "nbformat_minor": 0
}
